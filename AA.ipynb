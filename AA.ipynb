{
  "nbformat": 4,
  "nbformat_minor": 0,
  "metadata": {
    "colab": {
      "provenance": [],
      "include_colab_link": true
    },
    "kernelspec": {
      "name": "python3",
      "display_name": "Python 3"
    },
    "language_info": {
      "name": "python"
    }
  },
  "cells": [
    {
      "cell_type": "markdown",
      "metadata": {
        "id": "view-in-github",
        "colab_type": "text"
      },
      "source": [
        "<a href=\"https://colab.research.google.com/github/jxhnmo/american-airlines-challenge/blob/main/AA.ipynb\" target=\"_parent\"><img src=\"https://colab.research.google.com/assets/colab-badge.svg\" alt=\"Open In Colab\"/></a>"
      ]
    },
    {
      "cell_type": "code",
      "execution_count": null,
      "metadata": {
        "id": "d0zby02wCvoa",
        "colab": {
          "base_uri": "https://localhost:8080/"
        },
        "outputId": "4d901630-5ee3-4f1d-8953-05aacd746241"
      },
      "outputs": [
        {
          "output_type": "stream",
          "name": "stdout",
          "text": [
            "Mounted at /content/drive/\n"
          ]
        }
      ],
      "source": [
        "from google.colab import drive\n",
        "drive.mount('/content/drive/')"
      ]
    },
    {
      "cell_type": "code",
      "source": [
        "!ls \"/content/\""
      ],
      "metadata": {
        "colab": {
          "base_uri": "https://localhost:8080/"
        },
        "id": "plH0MoCXD56U",
        "outputId": "28774220-99c1-4d22-89eb-fb5d873a2707"
      },
      "execution_count": null,
      "outputs": [
        {
          "output_type": "stream",
          "name": "stdout",
          "text": [
            "drive  sample_data\n"
          ]
        }
      ]
    },
    {
      "cell_type": "code",
      "source": [
        "from google.colab import drive\n",
        "drive.mount('/content/drive')"
      ],
      "metadata": {
        "id": "jWvBlEuU4005"
      },
      "execution_count": null,
      "outputs": []
    },
    {
      "cell_type": "markdown",
      "source": [
        "#Imports"
      ],
      "metadata": {
        "id": "YE0Mbj3XEGOo"
      }
    },
    {
      "cell_type": "code",
      "source": [
        "import pandas as pd\n",
        "from pandas import Series, DataFrame\n",
        "from sklearn.preprocessing import OneHotEncoder"
      ],
      "metadata": {
        "id": "Yn1FJF-8EFmr"
      },
      "execution_count": null,
      "outputs": []
    },
    {
      "cell_type": "markdown",
      "source": [
        "#Loading into DataFrames\n"
      ],
      "metadata": {
        "id": "MsQr9wTFEJr7"
      }
    },
    {
      "cell_type": "code",
      "source": [
        "df = pd.read_csv(\"/content/BusinessLeisure_Train.csv\")\n",
        "xtraining1 = ((df['OR_TRIP_PURPOSE']).to_frame())\n",
        "\n",
        "\n",
        "purpose = {'B': 0, 'L': 1}\n",
        "\n",
        "#xtraining1 = [purpose[item] for item in xtraining1.OR_TRIP_PURPOSE]\n",
        "\n",
        "#print(xtraining1)\n",
        "\n",
        "#convert list into DF\n",
        "xtraining1 = pd.DataFrame(xtraining1, columns = ['OR_TRIP_PURPOSE'])\n",
        "\n",
        "#print(xtraining1)\n",
        "\n",
        "#print(type(xtraining1))\n",
        "\n",
        "xtraining1 = pd.get_dummies(xtraining1)\n",
        "\n",
        "#print(xtraining1.head(10).to_markdown())\n",
        "\n",
        "df2 = pd.read_csv(\"/content/BusinessLeisure_Test.csv\")\n",
        "xtest1 = (df['OR_TRIP_PURPOSE']).to_frame()\n",
        "\n",
        "purpose = {'B': 0, 'L': 1}\n",
        "\n",
        "xtest1 = [purpose[item] for item in xtest1.OR_TRIP_PURPOSE]\n",
        "\n",
        "xtest1 = pd.DataFrame(xtest1, columns = ['OR_TRIP_PURPOSE'])\n",
        "\n",
        "xtest1 = pd.get_dummies(xtest1)\n",
        "\n",
        "\n",
        "\n",
        "#copy from train\n",
        "#print(xtest1)"
      ],
      "metadata": {
        "id": "FA8DERTlLp4r"
      },
      "execution_count": null,
      "outputs": []
    },
    {
      "cell_type": "code",
      "source": [
        "\n",
        "xtraining2 = (df['BE_IND']).to_frame()\n",
        "xtraining3 =(df[\"PNR_MAX_LYLTY_LEVEL_CD\"]).to_frame()\n",
        "xtraining4 = (df[\"OVERSIZED_BAG_IND\"]).to_frame()\n",
        "xtraining5 = (df[\"SPCL_RQST_FAMLY_IND\"]).to_frame()\n",
        "xtraining6 = (df[\"GROUP_SIZE\"]).to_frame()\n",
        "\n",
        "Xtrain = df[[ 'BE_IND', 'FLEXIBLE_IND', 'NUM_BAGS', 'OVERSIZED_BAG_IND', 'PET_CHECKED_IND', 'PET_IN_CABIN_IND', 'SPCL_RQST_FAMLY_IND', 'PRIORITY_IND', 'GROUP_SIZE', 'SPCL_EVENT_B_IND', 'SPCL_EVENT_L_IND', 'MLG_TICKET', 'CORP_ACCT']]\n",
        "Ytrain = df[['OR_TRIP_PURPOSE']]\n",
        "\n",
        "xtest2 = (df['BE_IND']).to_frame()\n",
        "xtest3 =(df[\"PNR_MAX_LYLTY_LEVEL_CD\"]).to_frame()\n",
        "xtest4 = (df[\"OVERSIZED_BAG_IND\"]).to_frame()\n",
        "xtest5 = (df[\"SPCL_RQST_FAMLY_IND\"]).to_frame()\n",
        "xtest6 = (df[\"GROUP_SIZE\"]).to_frame()\n",
        "\n",
        "Xtest = df2[[ 'BE_IND', 'FLEXIBLE_IND', 'NUM_BAGS', 'OVERSIZED_BAG_IND', 'PET_CHECKED_IND', 'PET_IN_CABIN_IND', 'SPCL_RQST_FAMLY_IND', 'PRIORITY_IND', 'GROUP_SIZE', 'SPCL_EVENT_B_IND', 'SPCL_EVENT_L_IND', 'MLG_TICKET', 'CORP_ACCT']]\n",
        "Ytest = df2[['OR_TRIP_PURPOSE']]\n",
        "#print(Xtrain.head(10).to_markdown())\n",
        "#print(Ytest.head(10).to_markdown())\n",
        "\n",
        "#print(Xtest.head(10).to_markdown())\n",
        "\n",
        "print(Ytrain.head(10).to_markdown())"
      ],
      "metadata": {
        "colab": {
          "base_uri": "https://localhost:8080/"
        },
        "id": "VBdtSekCECdU",
        "outputId": "8dfa6c3f-9aa0-4ad6-a05d-009541248cb4"
      },
      "execution_count": null,
      "outputs": [
        {
          "output_type": "stream",
          "name": "stdout",
          "text": [
            "|    | OR_TRIP_PURPOSE   |\n",
            "|---:|:------------------|\n",
            "|  0 | L                 |\n",
            "|  1 | L                 |\n",
            "|  2 | L                 |\n",
            "|  3 | L                 |\n",
            "|  4 | L                 |\n",
            "|  5 | L                 |\n",
            "|  6 | L                 |\n",
            "|  7 | B                 |\n",
            "|  8 | B                 |\n",
            "|  9 | B                 |\n"
          ]
        }
      ]
    },
    {
      "cell_type": "code",
      "source": [
        "from sklearn.ensemble import HistGradientBoostingClassifier\n",
        "from sklearn import metrics\n",
        "from sklearn.metrics import classification_report\n",
        "from sklearn.metrics import confusion_matrix\n",
        "\n",
        "Xtest.columns = Xtest.columns.astype(str)\n",
        "\n",
        "model = HistGradientBoostingClassifier()\n",
        "model.fit(Xtrain, Ytrain.values.ravel())\n",
        "\n",
        "ypred = model.predict(Xtest)\n",
        "\n",
        "confused=confusion_matrix(Ytest.values.ravel(), ypred)\n",
        "\n",
        "print(metrics.classification_report(Ytest.values.ravel(), ypred))\n",
        "print(confused)"
      ],
      "metadata": {
        "colab": {
          "base_uri": "https://localhost:8080/"
        },
        "id": "nkG8ALYORLfL",
        "outputId": "24c0240f-d151-4c7e-95db-292d86e5761c"
      },
      "execution_count": null,
      "outputs": [
        {
          "output_type": "stream",
          "name": "stdout",
          "text": [
            "              precision    recall  f1-score   support\n",
            "\n",
            "           B       0.76      0.07      0.12      8664\n",
            "           L       0.79      0.99      0.88     31336\n",
            "\n",
            "    accuracy                           0.79     40000\n",
            "   macro avg       0.78      0.53      0.50     40000\n",
            "weighted avg       0.79      0.79      0.72     40000\n",
            "\n",
            "[[  588  8076]\n",
            " [  184 31152]]\n"
          ]
        }
      ]
    },
    {
      "cell_type": "markdown",
      "source": [
        "Here we have loaded our training set into our Dataframe. The Dataframe is our medium to load into a model.\n"
      ],
      "metadata": {
        "id": "5ebtkYQ_H8HQ"
      }
    },
    {
      "cell_type": "code",
      "source": [
        "import xgboost as xgb\n",
        "print(type(Xtest))"
      ],
      "metadata": {
        "colab": {
          "base_uri": "https://localhost:8080/"
        },
        "id": "eg5l_qFHKgya",
        "outputId": "c47409d0-1fae-4923-98e2-a9c809443743"
      },
      "execution_count": null,
      "outputs": [
        {
          "output_type": "stream",
          "name": "stdout",
          "text": [
            "<class 'pandas.core.frame.DataFrame'>\n"
          ]
        }
      ]
    },
    {
      "cell_type": "code",
      "source": [
        "dxtrain = xgb.DMatrix(Xtrain, label=Ytrain)\n",
        "dytest = xgb.DMatrix(Xtest,label=Ytest)\n",
        "evallist = [(dxtrain, \"train\"), (dytest, \"test\")]\n",
        "param = {}\n",
        "param['nthread'] = 4\n",
        "num = 50\n",
        "bst = xgb.train(param,dxtrain, num , evallist )"
      ],
      "metadata": {
        "colab": {
          "base_uri": "https://localhost:8080/"
        },
        "id": "HQKJ_LeZKkgu",
        "outputId": "a09ce93e-79f8-4fe0-ce64-10dfccbe140d"
      },
      "execution_count": null,
      "outputs": [
        {
          "output_type": "stream",
          "name": "stdout",
          "text": [
            "[0]\ttrain-rmse:0.35000\ttest-rmse:0.35000\n",
            "[1]\ttrain-rmse:0.24500\ttest-rmse:0.24500\n",
            "[2]\ttrain-rmse:0.17150\ttest-rmse:0.17150\n"
          ]
        },
        {
          "output_type": "stream",
          "name": "stderr",
          "text": [
            "/usr/local/lib/python3.9/dist-packages/xgboost/core.py:617: FutureWarning: Pass `evals` as keyword args.\n",
            "  warnings.warn(msg, FutureWarning)\n"
          ]
        },
        {
          "output_type": "stream",
          "name": "stdout",
          "text": [
            "[3]\ttrain-rmse:0.12005\ttest-rmse:0.12005\n",
            "[4]\ttrain-rmse:0.08404\ttest-rmse:0.08404\n",
            "[5]\ttrain-rmse:0.05883\ttest-rmse:0.05883\n",
            "[6]\ttrain-rmse:0.04118\ttest-rmse:0.04118\n",
            "[7]\ttrain-rmse:0.02883\ttest-rmse:0.02883\n",
            "[8]\ttrain-rmse:0.02018\ttest-rmse:0.02018\n",
            "[9]\ttrain-rmse:0.01412\ttest-rmse:0.01412\n",
            "[10]\ttrain-rmse:0.00989\ttest-rmse:0.00989\n",
            "[11]\ttrain-rmse:0.00692\ttest-rmse:0.00692\n",
            "[12]\ttrain-rmse:0.00484\ttest-rmse:0.00484\n",
            "[13]\ttrain-rmse:0.00339\ttest-rmse:0.00339\n",
            "[14]\ttrain-rmse:0.00237\ttest-rmse:0.00237\n",
            "[15]\ttrain-rmse:0.00166\ttest-rmse:0.00166\n",
            "[16]\ttrain-rmse:0.00116\ttest-rmse:0.00116\n",
            "[17]\ttrain-rmse:0.00081\ttest-rmse:0.00081\n",
            "[18]\ttrain-rmse:0.00057\ttest-rmse:0.00057\n",
            "[19]\ttrain-rmse:0.00040\ttest-rmse:0.00040\n",
            "[20]\ttrain-rmse:0.00028\ttest-rmse:0.00028\n",
            "[21]\ttrain-rmse:0.00020\ttest-rmse:0.00020\n",
            "[22]\ttrain-rmse:0.00014\ttest-rmse:0.00014\n",
            "[23]\ttrain-rmse:0.00010\ttest-rmse:0.00010\n",
            "[24]\ttrain-rmse:0.00007\ttest-rmse:0.00007\n",
            "[25]\ttrain-rmse:0.00005\ttest-rmse:0.00005\n",
            "[26]\ttrain-rmse:0.00003\ttest-rmse:0.00003\n",
            "[27]\ttrain-rmse:0.00002\ttest-rmse:0.00002\n",
            "[28]\ttrain-rmse:0.00002\ttest-rmse:0.00002\n",
            "[29]\ttrain-rmse:0.00001\ttest-rmse:0.00001\n",
            "[30]\ttrain-rmse:0.00001\ttest-rmse:0.00001\n",
            "[31]\ttrain-rmse:0.00001\ttest-rmse:0.00001\n",
            "[32]\ttrain-rmse:0.00000\ttest-rmse:0.00000\n",
            "[33]\ttrain-rmse:0.00000\ttest-rmse:0.00000\n",
            "[34]\ttrain-rmse:0.00000\ttest-rmse:0.00000\n",
            "[35]\ttrain-rmse:0.00000\ttest-rmse:0.00000\n",
            "[36]\ttrain-rmse:0.00000\ttest-rmse:0.00000\n",
            "[37]\ttrain-rmse:0.00000\ttest-rmse:0.00000\n",
            "[38]\ttrain-rmse:0.00000\ttest-rmse:0.00000\n",
            "[39]\ttrain-rmse:0.00000\ttest-rmse:0.00000\n",
            "[40]\ttrain-rmse:0.00000\ttest-rmse:0.00000\n",
            "[41]\ttrain-rmse:0.00000\ttest-rmse:0.00000\n",
            "[42]\ttrain-rmse:0.00000\ttest-rmse:0.00000\n",
            "[43]\ttrain-rmse:0.00000\ttest-rmse:0.00000\n",
            "[44]\ttrain-rmse:0.00000\ttest-rmse:0.00000\n",
            "[45]\ttrain-rmse:0.00000\ttest-rmse:0.00000\n",
            "[46]\ttrain-rmse:0.00000\ttest-rmse:0.00000\n",
            "[47]\ttrain-rmse:0.00000\ttest-rmse:0.00000\n",
            "[48]\ttrain-rmse:0.00000\ttest-rmse:0.00000\n",
            "[49]\ttrain-rmse:0.00000\ttest-rmse:0.00000\n"
          ]
        }
      ]
    },
    {
      "cell_type": "markdown",
      "source": [
        "Using XGBoost to train the model, DMatrix models are set up for the training and test data, an evaluation list is set up, and trains the model using xgb.train()"
      ],
      "metadata": {
        "id": "18x_sVSZjyFN"
      }
    },
    {
      "cell_type": "code",
      "source": [
        "print(metrics.classification_report(Ytest, ypred))\n",
        "print(confused)"
      ],
      "metadata": {
        "colab": {
          "base_uri": "https://localhost:8080/"
        },
        "id": "ioizyKSbkFpD",
        "outputId": "685f874c-f1e7-4669-bf95-b1e160982134"
      },
      "execution_count": null,
      "outputs": [
        {
          "output_type": "stream",
          "name": "stdout",
          "text": [
            "              precision    recall  f1-score   support\n",
            "\n",
            "           0       1.00      1.00      1.00      8664\n",
            "           1       1.00      1.00      1.00     31336\n",
            "\n",
            "    accuracy                           1.00     40000\n",
            "   macro avg       1.00      1.00      1.00     40000\n",
            "weighted avg       1.00      1.00      1.00     40000\n",
            "\n",
            "[[ 8664     0]\n",
            " [    0 31336]]\n"
          ]
        }
      ]
    }
  ]
}